{
  "nbformat": 4,
  "nbformat_minor": 0,
  "metadata": {
    "colab": {
      "name": "Detection of Slowloris",
      "provenance": [],
      "collapsed_sections": [],
      "authorship_tag": "ABX9TyNzE1LvU+l3Ig+KmZ3m4zSt",
      "include_colab_link": true
    },
    "kernelspec": {
      "name": "python3",
      "display_name": "Python 3"
    },
    "language_info": {
      "name": "python"
    }
  },
  "cells": [
    {
      "cell_type": "markdown",
      "metadata": {
        "id": "view-in-github",
        "colab_type": "text"
      },
      "source": [
        "<a href=\"https://colab.research.google.com/github/21goldy/DOS_Detection---Project-Exhibition-1/blob/main/Detection_of_Slowloris.ipynb\" target=\"_parent\"><img src=\"https://colab.research.google.com/assets/colab-badge.svg\" alt=\"Open In Colab\"/></a>"
      ]
    },
    {
      "cell_type": "code",
      "metadata": {
        "id": "MW91Bk8sF5bC"
      },
      "source": [
        "#@title Detection & Prevention of the Slow loris attack utilizing the IsolationForest algorithm and HTTP port blocking - Group 16 { display-mode: \"form\" }\n",
        "# Detection & Prevention of the Slow loris attack utilizing the IsolationForest algorithm and HTTP port blocking - Group 16"
      ],
      "execution_count": null,
      "outputs": []
    },
    {
      "cell_type": "code",
      "metadata": {
        "id": "1m6XE9ARESRt"
      },
      "source": [
        "# importing the required modules of python \n",
        "\n",
        "import io\n",
        "import pandas as pd\n",
        "from google.colab import files"
      ],
      "execution_count": null,
      "outputs": []
    },
    {
      "cell_type": "code",
      "metadata": {
        "colab": {
          "resources": {
            "http://localhost:8080/nbextensions/google.colab/files.js": {
              "data": "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",
              "ok": true,
              "headers": [
                [
                  "content-type",
                  "application/javascript"
                ]
              ],
              "status": 200,
              "status_text": "OK"
            }
          },
          "base_uri": "https://localhost:8080/",
          "height": 81
        },
        "id": "HHfOPXcOFDaL",
        "outputId": "018f25ee-4d20-4430-b396-c0c1ca49f871"
      },
      "source": [
        "upload_file = files.upload() # uploading the collected CSV from wireshark for DOS analysis and attack detection "
      ],
      "execution_count": null,
      "outputs": [
        {
          "output_type": "display_data",
          "data": {
            "text/html": [
              "\n",
              "     <input type=\"file\" id=\"files-c5229c27-71fd-460f-8696-66683f02d783\" name=\"files[]\" multiple disabled\n",
              "        style=\"border:none\" />\n",
              "     <output id=\"result-c5229c27-71fd-460f-8696-66683f02d783\">\n",
              "      Upload widget is only available when the cell has been executed in the\n",
              "      current browser session. Please rerun this cell to enable.\n",
              "      </output>\n",
              "      <script src=\"/nbextensions/google.colab/files.js\"></script> "
            ],
            "text/plain": [
              "<IPython.core.display.HTML object>"
            ]
          },
          "metadata": {}
        },
        {
          "output_type": "stream",
          "name": "stdout",
          "text": [
            "Saving detect_test3.csv to detect_test3.csv\n"
          ]
        }
      ]
    },
    {
      "cell_type": "code",
      "metadata": {
        "colab": {
          "base_uri": "https://localhost:8080/"
        },
        "id": "6jjRY8B6GBEG",
        "outputId": "51ce2df5-2b19-4c43-decd-cca3a30d1011"
      },
      "source": [
        "for fn in upload_file.keys():\n",
        "  print('User uploaded file \"{name}\" with length {length} bytes'.format(\n",
        "      name=fn, length=len(upload_file[fn])))"
      ],
      "execution_count": null,
      "outputs": [
        {
          "output_type": "stream",
          "name": "stdout",
          "text": [
            "User uploaded file \"detect_test3.csv\" with length 33475 bytes\n"
          ]
        }
      ]
    },
    {
      "cell_type": "code",
      "metadata": {
        "id": "pw-0gyuAGwTz"
      },
      "source": [
        "data = pd.read_csv(io.StringIO(upload_file['detect_test3.csv'].decode('utf-8'))) # reading the CSV file and storing it under the name \"data\" "
      ],
      "execution_count": null,
      "outputs": []
    },
    {
      "cell_type": "code",
      "metadata": {
        "colab": {
          "base_uri": "https://localhost:8080/"
        },
        "id": "_KXBY04PKXjl",
        "outputId": "5a022fe4-51bd-4dff-eecb-118ebee6c7be"
      },
      "source": [
        "data.shape # defining the total rows and columns present (Here total rows can also be understood as the number of transmissions captured)"
      ],
      "execution_count": null,
      "outputs": [
        {
          "output_type": "execute_result",
          "data": {
            "text/plain": [
              "(280, 7)"
            ]
          },
          "metadata": {},
          "execution_count": 29
        }
      ]
    },
    {
      "cell_type": "code",
      "metadata": {
        "id": "dZUJvT4mKc_H"
      },
      "source": [
        "transmission_count = data.shape[0] # storing the rows/transmissions captured as \"transmission_count\""
      ],
      "execution_count": null,
      "outputs": []
    },
    {
      "cell_type": "code",
      "metadata": {
        "colab": {
          "base_uri": "https://localhost:8080/",
          "height": 206
        },
        "id": "8_hTlr1rG3Wz",
        "outputId": "ae04740b-4a9a-4621-eb70-a60cd101d2f4"
      },
      "source": [
        "data.head() # representing the starting 5 data sets in \"data\""
      ],
      "execution_count": null,
      "outputs": [
        {
          "output_type": "execute_result",
          "data": {
            "text/html": [
              "<div>\n",
              "<style scoped>\n",
              "    .dataframe tbody tr th:only-of-type {\n",
              "        vertical-align: middle;\n",
              "    }\n",
              "\n",
              "    .dataframe tbody tr th {\n",
              "        vertical-align: top;\n",
              "    }\n",
              "\n",
              "    .dataframe thead th {\n",
              "        text-align: right;\n",
              "    }\n",
              "</style>\n",
              "<table border=\"1\" class=\"dataframe\">\n",
              "  <thead>\n",
              "    <tr style=\"text-align: right;\">\n",
              "      <th></th>\n",
              "      <th>No.</th>\n",
              "      <th>Time</th>\n",
              "      <th>Source</th>\n",
              "      <th>Destination</th>\n",
              "      <th>Protocol</th>\n",
              "      <th>Length</th>\n",
              "      <th>Info</th>\n",
              "    </tr>\n",
              "  </thead>\n",
              "  <tbody>\n",
              "    <tr>\n",
              "      <th>0</th>\n",
              "      <td>1</td>\n",
              "      <td>0.000000</td>\n",
              "      <td>10.0.2.15</td>\n",
              "      <td>192.168.43.1</td>\n",
              "      <td>DNS</td>\n",
              "      <td>95</td>\n",
              "      <td>Standard query 0x4cea A content-signature-2.cd...</td>\n",
              "    </tr>\n",
              "    <tr>\n",
              "      <th>1</th>\n",
              "      <td>2</td>\n",
              "      <td>0.000032</td>\n",
              "      <td>10.0.2.15</td>\n",
              "      <td>192.168.43.1</td>\n",
              "      <td>DNS</td>\n",
              "      <td>95</td>\n",
              "      <td>Standard query 0x88ef AAAA content-signature-2...</td>\n",
              "    </tr>\n",
              "    <tr>\n",
              "      <th>2</th>\n",
              "      <td>3</td>\n",
              "      <td>0.006516</td>\n",
              "      <td>192.168.43.1</td>\n",
              "      <td>10.0.2.15</td>\n",
              "      <td>DNS</td>\n",
              "      <td>362</td>\n",
              "      <td>Standard query response 0x88ef AAAA content-si...</td>\n",
              "    </tr>\n",
              "    <tr>\n",
              "      <th>3</th>\n",
              "      <td>4</td>\n",
              "      <td>0.073744</td>\n",
              "      <td>192.168.43.1</td>\n",
              "      <td>10.0.2.15</td>\n",
              "      <td>DNS</td>\n",
              "      <td>336</td>\n",
              "      <td>Standard query response 0x4cea A content-signa...</td>\n",
              "    </tr>\n",
              "    <tr>\n",
              "      <th>4</th>\n",
              "      <td>5</td>\n",
              "      <td>0.879856</td>\n",
              "      <td>10.0.2.15</td>\n",
              "      <td>13.227.214.62</td>\n",
              "      <td>TCP</td>\n",
              "      <td>74</td>\n",
              "      <td>33446  &gt;  443 [SYN] Seq=0 Win=64240 Len=0 MSS=...</td>\n",
              "    </tr>\n",
              "  </tbody>\n",
              "</table>\n",
              "</div>"
            ],
            "text/plain": [
              "   No.      Time  ... Length                                               Info\n",
              "0    1  0.000000  ...     95  Standard query 0x4cea A content-signature-2.cd...\n",
              "1    2  0.000032  ...     95  Standard query 0x88ef AAAA content-signature-2...\n",
              "2    3  0.006516  ...    362  Standard query response 0x88ef AAAA content-si...\n",
              "3    4  0.073744  ...    336  Standard query response 0x4cea A content-signa...\n",
              "4    5  0.879856  ...     74  33446  >  443 [SYN] Seq=0 Win=64240 Len=0 MSS=...\n",
              "\n",
              "[5 rows x 7 columns]"
            ]
          },
          "metadata": {},
          "execution_count": 30
        }
      ]
    },
    {
      "cell_type": "code",
      "metadata": {
        "colab": {
          "base_uri": "https://localhost:8080/",
          "height": 206
        },
        "id": "p1MJCuRxG--M",
        "outputId": "fb06f341-9050-4dae-b4d3-625b8a8bad5b"
      },
      "source": [
        "data.tail() # representing the ending 5 data sets in \"data\""
      ],
      "execution_count": null,
      "outputs": [
        {
          "output_type": "execute_result",
          "data": {
            "text/html": [
              "<div>\n",
              "<style scoped>\n",
              "    .dataframe tbody tr th:only-of-type {\n",
              "        vertical-align: middle;\n",
              "    }\n",
              "\n",
              "    .dataframe tbody tr th {\n",
              "        vertical-align: top;\n",
              "    }\n",
              "\n",
              "    .dataframe thead th {\n",
              "        text-align: right;\n",
              "    }\n",
              "</style>\n",
              "<table border=\"1\" class=\"dataframe\">\n",
              "  <thead>\n",
              "    <tr style=\"text-align: right;\">\n",
              "      <th></th>\n",
              "      <th>No.</th>\n",
              "      <th>Time</th>\n",
              "      <th>Source</th>\n",
              "      <th>Destination</th>\n",
              "      <th>Protocol</th>\n",
              "      <th>Length</th>\n",
              "      <th>Info</th>\n",
              "    </tr>\n",
              "  </thead>\n",
              "  <tbody>\n",
              "    <tr>\n",
              "      <th>275</th>\n",
              "      <td>276</td>\n",
              "      <td>52.548113</td>\n",
              "      <td>52.84.6.10</td>\n",
              "      <td>10.0.2.15</td>\n",
              "      <td>TCP</td>\n",
              "      <td>60</td>\n",
              "      <td>[TCP Keep-Alive ACK] 443  &gt;  33846 [ACK] Seq=4...</td>\n",
              "    </tr>\n",
              "    <tr>\n",
              "      <th>276</th>\n",
              "      <td>277</td>\n",
              "      <td>54.596082</td>\n",
              "      <td>10.0.2.15</td>\n",
              "      <td>117.18.237.29</td>\n",
              "      <td>TCP</td>\n",
              "      <td>54</td>\n",
              "      <td>[TCP Keep-Alive] 41910  &gt;  80 [ACK] Seq=371 Ac...</td>\n",
              "    </tr>\n",
              "    <tr>\n",
              "      <th>277</th>\n",
              "      <td>278</td>\n",
              "      <td>54.596144</td>\n",
              "      <td>10.0.2.15</td>\n",
              "      <td>117.18.237.29</td>\n",
              "      <td>TCP</td>\n",
              "      <td>54</td>\n",
              "      <td>[TCP Keep-Alive] 41908  &gt;  80 [ACK] Seq=371 Ac...</td>\n",
              "    </tr>\n",
              "    <tr>\n",
              "      <th>278</th>\n",
              "      <td>279</td>\n",
              "      <td>54.596804</td>\n",
              "      <td>117.18.237.29</td>\n",
              "      <td>10.0.2.15</td>\n",
              "      <td>TCP</td>\n",
              "      <td>60</td>\n",
              "      <td>[TCP Keep-Alive ACK] 80  &gt;  41910 [ACK] Seq=80...</td>\n",
              "    </tr>\n",
              "    <tr>\n",
              "      <th>279</th>\n",
              "      <td>280</td>\n",
              "      <td>54.596804</td>\n",
              "      <td>117.18.237.29</td>\n",
              "      <td>10.0.2.15</td>\n",
              "      <td>TCP</td>\n",
              "      <td>60</td>\n",
              "      <td>[TCP Keep-Alive ACK] 80  &gt;  41908 [ACK] Seq=80...</td>\n",
              "    </tr>\n",
              "  </tbody>\n",
              "</table>\n",
              "</div>"
            ],
            "text/plain": [
              "     No.       Time  ... Length                                               Info\n",
              "275  276  52.548113  ...     60  [TCP Keep-Alive ACK] 443  >  33846 [ACK] Seq=4...\n",
              "276  277  54.596082  ...     54  [TCP Keep-Alive] 41910  >  80 [ACK] Seq=371 Ac...\n",
              "277  278  54.596144  ...     54  [TCP Keep-Alive] 41908  >  80 [ACK] Seq=371 Ac...\n",
              "278  279  54.596804  ...     60  [TCP Keep-Alive ACK] 80  >  41910 [ACK] Seq=80...\n",
              "279  280  54.596804  ...     60  [TCP Keep-Alive ACK] 80  >  41908 [ACK] Seq=80...\n",
              "\n",
              "[5 rows x 7 columns]"
            ]
          },
          "metadata": {},
          "execution_count": 31
        }
      ]
    },
    {
      "cell_type": "code",
      "metadata": {
        "colab": {
          "base_uri": "https://localhost:8080/",
          "height": 300
        },
        "id": "sQjpXhhyHCLF",
        "outputId": "d9c2939c-6b80-42be-f3da-73cdc745f81e"
      },
      "source": [
        "data.describe() # description of the data present in the dataset \"data\""
      ],
      "execution_count": null,
      "outputs": [
        {
          "output_type": "execute_result",
          "data": {
            "text/html": [
              "<div>\n",
              "<style scoped>\n",
              "    .dataframe tbody tr th:only-of-type {\n",
              "        vertical-align: middle;\n",
              "    }\n",
              "\n",
              "    .dataframe tbody tr th {\n",
              "        vertical-align: top;\n",
              "    }\n",
              "\n",
              "    .dataframe thead th {\n",
              "        text-align: right;\n",
              "    }\n",
              "</style>\n",
              "<table border=\"1\" class=\"dataframe\">\n",
              "  <thead>\n",
              "    <tr style=\"text-align: right;\">\n",
              "      <th></th>\n",
              "      <th>No.</th>\n",
              "      <th>Time</th>\n",
              "      <th>Length</th>\n",
              "    </tr>\n",
              "  </thead>\n",
              "  <tbody>\n",
              "    <tr>\n",
              "      <th>count</th>\n",
              "      <td>280.000000</td>\n",
              "      <td>280.000000</td>\n",
              "      <td>280.000000</td>\n",
              "    </tr>\n",
              "    <tr>\n",
              "      <th>mean</th>\n",
              "      <td>140.500000</td>\n",
              "      <td>7.109544</td>\n",
              "      <td>236.671429</td>\n",
              "    </tr>\n",
              "    <tr>\n",
              "      <th>std</th>\n",
              "      <td>80.973247</td>\n",
              "      <td>10.884204</td>\n",
              "      <td>405.362273</td>\n",
              "    </tr>\n",
              "    <tr>\n",
              "      <th>min</th>\n",
              "      <td>1.000000</td>\n",
              "      <td>0.000000</td>\n",
              "      <td>42.000000</td>\n",
              "    </tr>\n",
              "    <tr>\n",
              "      <th>25%</th>\n",
              "      <td>70.750000</td>\n",
              "      <td>1.751323</td>\n",
              "      <td>54.000000</td>\n",
              "    </tr>\n",
              "    <tr>\n",
              "      <th>50%</th>\n",
              "      <td>140.500000</td>\n",
              "      <td>3.778027</td>\n",
              "      <td>60.000000</td>\n",
              "    </tr>\n",
              "    <tr>\n",
              "      <th>75%</th>\n",
              "      <td>210.250000</td>\n",
              "      <td>5.736076</td>\n",
              "      <td>118.000000</td>\n",
              "    </tr>\n",
              "    <tr>\n",
              "      <th>max</th>\n",
              "      <td>280.000000</td>\n",
              "      <td>54.596804</td>\n",
              "      <td>2047.000000</td>\n",
              "    </tr>\n",
              "  </tbody>\n",
              "</table>\n",
              "</div>"
            ],
            "text/plain": [
              "              No.        Time       Length\n",
              "count  280.000000  280.000000   280.000000\n",
              "mean   140.500000    7.109544   236.671429\n",
              "std     80.973247   10.884204   405.362273\n",
              "min      1.000000    0.000000    42.000000\n",
              "25%     70.750000    1.751323    54.000000\n",
              "50%    140.500000    3.778027    60.000000\n",
              "75%    210.250000    5.736076   118.000000\n",
              "max    280.000000   54.596804  2047.000000"
            ]
          },
          "metadata": {},
          "execution_count": 32
        }
      ]
    },
    {
      "cell_type": "code",
      "metadata": {
        "colab": {
          "base_uri": "https://localhost:8080/"
        },
        "id": "S8o6xWkkRGLy",
        "outputId": "3ef04a9a-ae7f-4a85-d022-f3f2670d527f"
      },
      "source": [
        "data.Source # listing the Source IP's present in the captured file"
      ],
      "execution_count": null,
      "outputs": [
        {
          "output_type": "execute_result",
          "data": {
            "text/plain": [
              "0          10.0.2.15\n",
              "1          10.0.2.15\n",
              "2       192.168.43.1\n",
              "3       192.168.43.1\n",
              "4          10.0.2.15\n",
              "           ...      \n",
              "275       52.84.6.10\n",
              "276        10.0.2.15\n",
              "277        10.0.2.15\n",
              "278    117.18.237.29\n",
              "279    117.18.237.29\n",
              "Name: Source, Length: 280, dtype: object"
            ]
          },
          "metadata": {},
          "execution_count": 33
        }
      ]
    },
    {
      "cell_type": "code",
      "metadata": {
        "colab": {
          "base_uri": "https://localhost:8080/"
        },
        "id": "mSGUJUzAOQCS",
        "outputId": "bbf9c3ad-5e9f-4ea6-871b-d9d896498564"
      },
      "source": [
        "source = data.Source \n",
        "source.nunique() # finding the unique IP's present in the Source column"
      ],
      "execution_count": null,
      "outputs": [
        {
          "output_type": "execute_result",
          "data": {
            "text/plain": [
              "12"
            ]
          },
          "metadata": {},
          "execution_count": 34
        }
      ]
    },
    {
      "cell_type": "code",
      "metadata": {
        "colab": {
          "base_uri": "https://localhost:8080/"
        },
        "id": "LriVAQYUTWcX",
        "outputId": "01f42b37-99ac-4c9d-9d91-852f78274863"
      },
      "source": [
        "destination = data.Destination\n",
        "destination.nunique() # finding the unique IP's present in the Destination column"
      ],
      "execution_count": null,
      "outputs": [
        {
          "output_type": "execute_result",
          "data": {
            "text/plain": [
              "12"
            ]
          },
          "metadata": {},
          "execution_count": 35
        }
      ]
    },
    {
      "cell_type": "code",
      "metadata": {
        "id": "V5DQtutcBKjm",
        "colab": {
          "base_uri": "https://localhost:8080/"
        },
        "outputId": "f483fd50-6507-4591-f259-2e3cce7e8724"
      },
      "source": [
        "new_source = source.drop_duplicates() # removing the all the duplicates from the Source column\n",
        "source_list = list(new_source) # creating list of all the unique IP's \n",
        "source_list\n",
        "print(len(source_list))"
      ],
      "execution_count": null,
      "outputs": [
        {
          "output_type": "stream",
          "name": "stdout",
          "text": [
            "12\n"
          ]
        }
      ]
    },
    {
      "cell_type": "code",
      "metadata": {
        "id": "12qqvrgRHOUy"
      },
      "source": [
        "major_ips = [] # empty list for keeping the majorly participating IP\n",
        "minor_ips = [] # empty list for keeping the less participating IP\n",
        "for i in source_list:\n",
        "  analyse_ip = data[data.Source == i]\n",
        "  transmission_of_ip = analyse_ip.shape[0]\n",
        "  set_criteria = (transmission_count * 35)/100\n",
        "  # print(set_criteria)\n",
        "  if transmission_of_ip > set_criteria:\n",
        "    major_ips.append(i)\n",
        "  else:\n",
        "    minor_ips.append(i)"
      ],
      "execution_count": null,
      "outputs": []
    },
    {
      "cell_type": "code",
      "metadata": {
        "colab": {
          "base_uri": "https://localhost:8080/"
        },
        "id": "z_-hzBeTOMPq",
        "outputId": "6ed481d0-4c30-4d18-a593-f53f9e657596"
      },
      "source": [
        "major_ips # list of actively participating ip"
      ],
      "execution_count": null,
      "outputs": [
        {
          "output_type": "execute_result",
          "data": {
            "text/plain": [
              "['10.0.2.15']"
            ]
          },
          "metadata": {},
          "execution_count": 38
        }
      ]
    },
    {
      "cell_type": "code",
      "metadata": {
        "colab": {
          "base_uri": "https://localhost:8080/"
        },
        "id": "psCT_FcdOUWl",
        "outputId": "2ce0a662-7376-4902-972a-0294ae68b9fd"
      },
      "source": [
        "minor_ips # list of less active ip"
      ],
      "execution_count": null,
      "outputs": [
        {
          "output_type": "execute_result",
          "data": {
            "text/plain": [
              "['192.168.43.1',\n",
              " '13.227.214.62',\n",
              " '52.84.6.10',\n",
              " '52.84.6.14',\n",
              " '34.215.101.125',\n",
              " '117.18.237.29',\n",
              " '104.18.10.207',\n",
              " '104.16.19.94',\n",
              " '69.16.175.42',\n",
              " 'PcsCompu_00:75:4e',\n",
              " 'RealtekU_12:35:02']"
            ]
          },
          "metadata": {},
          "execution_count": 39
        }
      ]
    },
    {
      "cell_type": "code",
      "metadata": {
        "id": "ITi84L5XKqxN"
      },
      "source": [
        "#@title Analysis of the Major IPs { display-mode: \"form\" }\n"
      ],
      "execution_count": null,
      "outputs": []
    },
    {
      "cell_type": "code",
      "metadata": {
        "id": "BD8SuG2My18W",
        "colab": {
          "base_uri": "https://localhost:8080/"
        },
        "outputId": "a5ce5ae5-1176-4afe-bea8-03f23fde2ede"
      },
      "source": [
        "for i in major_ips:\n",
        "  dest_list_of_major_ip = list(data[data.Source == i].Destination.drop_duplicates()) # transmitted destination list of major IP\n",
        "  major_df = pd.DataFrame(\n",
        "      [\n",
        "       (\n",
        "           i,\n",
        "           dest_list_of_major_ip,\n",
        "           f'{data[data.Source == i].Protocol.max()}',\n",
        "           f'{data[data.Source == i].Length.sum()}',\n",
        "           'Attack'\n",
        "       )\n",
        "      ],\n",
        "      columns=(\n",
        "          'Source', 'Destination', 'Max_Protocol', 'Total_Length', 'Result'\n",
        "          )\n",
        "                 )\n",
        "  major_df.to_csv (f'result_of_{i}.csv', index = False, header=True) # writing data in the csv file \"result_of_{ip}\"\n",
        "  print(major_df.head())\n",
        "  print(major_df.Destination)"
      ],
      "execution_count": null,
      "outputs": [
        {
          "output_type": "stream",
          "name": "stdout",
          "text": [
            "      Source  ...  Result\n",
            "0  10.0.2.15  ...  Attack\n",
            "\n",
            "[1 rows x 5 columns]\n",
            "0    [192.168.43.1, 13.227.214.62, 52.84.6.10, 52.8...\n",
            "Name: Destination, dtype: object\n"
          ]
        }
      ]
    },
    {
      "cell_type": "code",
      "metadata": {
        "id": "l5TUQH8tA_bo"
      },
      "source": [
        "a = data[data.Source == '10.0.2.15'] \n",
        "b = a[a.Destination == '192.185.184.157']\n",
        "b # transmission between the major IP \"a\" = '10.0.2.15' to \"b\" = '192.185.184.157'\n",
        "\n",
        "b.to_csv (r'transmission_1.csv', index = False, header=True) # writing data in the csv file \"transmission_1\""
      ],
      "execution_count": null,
      "outputs": []
    },
    {
      "cell_type": "code",
      "metadata": {
        "id": "PTjqYmm6GIDL"
      },
      "source": [
        "c = data[data.Source == '192.185.184.157']\n",
        "d = c[c.Destination == '10.0.2.15']\n",
        "d # transmission between the major IP \"c\" = '192.185.184.157' to \"d\" = '10.0.2.15'\n",
        "\n",
        "d.to_csv (r'transmission_2.csv', index = False, header=True) # writing data in the csv file \"transmission_2\""
      ],
      "execution_count": null,
      "outputs": []
    },
    {
      "cell_type": "code",
      "metadata": {
        "id": "XFtNq8wRQPyH"
      },
      "source": [
        "#@title Analysis of the Minor IPs { display-mode: \"form\" }\n"
      ],
      "execution_count": null,
      "outputs": []
    },
    {
      "cell_type": "code",
      "metadata": {
        "id": "P4qoJg8zvZ-T",
        "colab": {
          "base_uri": "https://localhost:8080/"
        },
        "outputId": "f203bb5a-fe13-470b-8c5c-5c84e05eaa3b"
      },
      "source": [
        "for j in minor_ips:\n",
        "  dest_list_of_minor_ip = list(data[data.Source == j].Destination.drop_duplicates()) # transmitted destination list of minor IP\n",
        "  if data[data.Source == j].Length.sum() <= 13000:\n",
        "    naive_df = pd.DataFrame(\n",
        "    [\n",
        "     (j, \n",
        "      dest_list_of_minor_ip,\n",
        "      f'{data[data.Source == j].Protocol.max()}', \n",
        "      f'{data[data.Source == j].Length.sum()}', \n",
        "      'Naive'),\n",
        "    ],\n",
        "    columns=(\n",
        "        'Source', 'Destination', 'Max_Protocol', 'Total_Length', 'Result'\n",
        "        )\n",
        "                 )\n",
        "    print(naive_df)\n",
        "    # print('==========================================================')\n",
        "\n",
        "  else:\n",
        "    suspicious_df = pd.DataFrame(\n",
        "    [\n",
        "     (j, \n",
        "      dest_list_of_minor_ip,\n",
        "      f'{data[data.Source == j].Protocol.max()}', \n",
        "      f'{data[data.Source == j].Length.sum()}', \n",
        "      'Suspicious'),\n",
        "    ],\n",
        "    columns=(\n",
        "        'Source', 'Destination', 'Max_Protocol', 'Total_Length', 'Result'\n",
        "        )\n",
        "                 )\n",
        "    print(suspicious_df)\n",
        "    # print('==========================================================')\n",
        "  \n"
      ],
      "execution_count": null,
      "outputs": [
        {
          "output_type": "stream",
          "name": "stdout",
          "text": [
            "         Source  Destination Max_Protocol Total_Length Result\n",
            "0  192.168.43.1  [10.0.2.15]          DNS         3047  Naive\n",
            "          Source  Destination Max_Protocol Total_Length Result\n",
            "0  13.227.214.62  [10.0.2.15]      TLSv1.3         4594  Naive\n",
            "       Source  Destination Max_Protocol Total_Length Result\n",
            "0  52.84.6.10  [10.0.2.15]      TLSv1.3         5653  Naive\n",
            "       Source  Destination Max_Protocol Total_Length Result\n",
            "0  52.84.6.14  [10.0.2.15]      TLSv1.3         9002  Naive\n",
            "           Source  Destination Max_Protocol Total_Length Result\n",
            "0  34.215.101.125  [10.0.2.15]      TLSv1.2         8481  Naive\n",
            "          Source  Destination Max_Protocol Total_Length Result\n",
            "0  117.18.237.29  [10.0.2.15]          TCP         2906  Naive\n",
            "          Source  Destination Max_Protocol Total_Length Result\n",
            "0  104.18.10.207  [10.0.2.15]      TLSv1.3         3852  Naive\n",
            "         Source  Destination Max_Protocol Total_Length Result\n",
            "0  104.16.19.94  [10.0.2.15]      TLSv1.3         3923  Naive\n",
            "         Source  Destination Max_Protocol Total_Length Result\n",
            "0  69.16.175.42  [10.0.2.15]      TLSv1.3         8008  Naive\n",
            "              Source          Destination Max_Protocol Total_Length Result\n",
            "0  PcsCompu_00:75:4e  [RealtekU_12:35:02]          ARP           42  Naive\n",
            "              Source          Destination Max_Protocol Total_Length Result\n",
            "0  RealtekU_12:35:02  [PcsCompu_00:75:4e]          ARP           60  Naive\n"
          ]
        }
      ]
    },
    {
      "cell_type": "code",
      "metadata": {
        "id": "xoGJjF_jW1kQ"
      },
      "source": [
        ""
      ],
      "execution_count": null,
      "outputs": []
    }
  ]
}